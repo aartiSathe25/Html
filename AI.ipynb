{
  "nbformat": 4,
  "nbformat_minor": 0,
  "metadata": {
    "colab": {
      "provenance": [],
      "authorship_tag": "ABX9TyMYdRE5s+c8P04llWEkvR0L",
      "include_colab_link": true
    },
    "kernelspec": {
      "name": "python3",
      "display_name": "Python 3"
    },
    "language_info": {
      "name": "python"
    }
  },
  "cells": [
    {
      "cell_type": "markdown",
      "metadata": {
        "id": "view-in-github",
        "colab_type": "text"
      },
      "source": [
        "<a href=\"https://colab.research.google.com/github/aartiSathe25/Html/blob/main/AI.ipynb\" target=\"_parent\"><img src=\"https://colab.research.google.com/assets/colab-badge.svg\" alt=\"Open In Colab\"/></a>"
      ]
    },
    {
      "cell_type": "code",
      "execution_count": 2,
      "metadata": {
        "id": "Vf3XHAF-VVDR",
        "colab": {
          "base_uri": "https://localhost:8080/",
          "height": 140
        },
        "outputId": "a4ce6efa-3122-495d-c01b-0f41596eda4a"
      },
      "outputs": [
        {
          "output_type": "error",
          "ename": "IndentationError",
          "evalue": "ignored",
          "traceback": [
            "\u001b[0;36m  File \u001b[0;32m\"<tokenize>\"\u001b[0;36m, line \u001b[0;32m12\u001b[0m\n\u001b[0;31m    print(\"\\n\\n\")\u001b[0m\n\u001b[0m    ^\u001b[0m\n\u001b[0;31mIndentationError\u001b[0m\u001b[0;31m:\u001b[0m unindent does not match any outer indentation level\n"
          ]
        }
      ],
      "source": [
        "def User1Turn(board):\n",
        "  pos = input(\"Enter X's Position:\")\n",
        "  pos = int(pos)\n",
        "  #Not Empty\n",
        "  if(board[pos-1]!=0):\n",
        "    print(\"Wrong Move......!!!!\")\n",
        "    exit(0)\n",
        "  board[pos-1]=1\n",
        "\n",
        "def User2Turn(board):\n",
        "  pos = input(\"Enter 0's Position:\")\n",
        "  pos = int(pos)\n",
        "  #Not Empty\n",
        "  if(board[pos-1]!=0):\n",
        "    print(\"Wrong Move......!!!!\")\n",
        "    exit(0)\n",
        "  board[pos-1]=-1\n",
        "\n",
        "def ConstBoard(board):\n",
        "  print(\"Current State of the board:\\n\")\n",
        "  for i in range(0,9):\n",
        "    if((i>0) and (i%3==0)):\n",
        "      print(\"\\n\")\n",
        "    if(board[i]==0):\n",
        "      print(\"_ \",end=\" \")\n",
        "    if(board[i]==1):\n",
        "      print(\"X \",end=\" \")\n",
        "    if(board[i]==-1):\n",
        "      print(\"O \",end=\" \")\n",
        "  print(\"\\n\\n\")\n",
        "\n",
        "\n",
        "\n",
        "def analyzeboard(board):\n",
        "  #who has won or not\n",
        "  cb = [[0,1,2],[3,4,5],[0,3,6],[1,4,7],[0,3,6],[1,4,7],[2,5,8],[0,4,8],[2,4,6] ]\n",
        "\n",
        "  for i in range(0,8):\n",
        "    #check who won and return\n",
        "      if((board[cb[i][0]]!=0) and (board[cb[i][0]]==board[cb[i][1]]) and  (board[cb[i][1]]==board[cb[i][2]]))\n",
        "      return board[cb[i][0]]\n",
        "\n",
        "\n",
        "  return 0\n",
        "\n",
        "def main():\n",
        " choice = input(\"Enter 1 for single Player or 2 for Multi-Player\")\n",
        " choice = int(choice)\n",
        " board = [0,0,0,0,0,0,0,0]\n",
        "\n",
        "if(choice==1):\n",
        "      #code to play agst AI\n",
        "    print(\"Will Build.....\")\n",
        "else:\n",
        "    #code for Multiplayer\n",
        "    for i in range(0,9):\n",
        "      if(analyzeboard(board)!=0):\n",
        "        break\n",
        "      if(i%2==0):\n",
        "        ConstBoard(board)\n",
        "        User1Turn(board)\n",
        "      else:\n",
        "        ConstBoard(board)\n",
        "        User2Turn(board)\n",
        "\n",
        "\n",
        "  x= analyzeboard(board)\n",
        "\n",
        "  if(x==0):\n",
        "      ConstBoard(board)\n",
        "      print(\"Draw!!!!\")\n",
        "  if(x==-1):\n",
        "      ConstBoard(board)\n",
        "      print(\"Player O has Won\")\n",
        "  if(x==1):\n",
        "      ConstBoard(board)\n",
        "      print(\"Player 1 has Won\")\n",
        "\n",
        "\n"
      ]
    },
    {
      "cell_type": "code",
      "source": [
        "def ConstBoard(board):\n",
        "  print(\"Current State of the board:\\n\")\n",
        "  for i in range(0,9):\n",
        "    if((i>0) and (i%3==0)):\n",
        "      print(\"\\n\")\n",
        "    if(board[i]==0):\n",
        "      print(\"_ \",end=\" \")\n",
        "    if(board[i]==1):\n",
        "      print(\"X \",end=\" \")\n",
        "    if(board[i]==-1):\n",
        "      print(\"O \",end=\" \")\n",
        "  print(\"\\n\\n\")\n",
        "\n",
        "\n"
      ],
      "metadata": {
        "id": "UxDVdvp5GZlK"
      },
      "execution_count": 6,
      "outputs": []
    },
    {
      "cell_type": "code",
      "source": [
        "ConstBoard([-1,0,-1,-1,1,0,-1,0,-1])"
      ],
      "metadata": {
        "colab": {
          "base_uri": "https://localhost:8080/"
        },
        "id": "XcKcK8rcGRhb",
        "outputId": "a3ab4901-79ee-450f-ba6a-b4ed52dad2f5"
      },
      "execution_count": 9,
      "outputs": [
        {
          "output_type": "stream",
          "name": "stdout",
          "text": [
            "Current State of the board:\n",
            "\n",
            "O  _  O  \n",
            "\n",
            "O  X  _  \n",
            "\n",
            "O  _  O  \n",
            "\n",
            "\n"
          ]
        }
      ]
    },
    {
      "cell_type": "markdown",
      "source": [
        "# New Section"
      ],
      "metadata": {
        "id": "X0JYH8_Uw7JR"
      }
    },
    {
      "cell_type": "code",
      "source": [
        "l=[10,20,40]\n",
        "for i in range(0,3):\n",
        "  print(l[i],end=\" \")"
      ],
      "metadata": {
        "colab": {
          "base_uri": "https://localhost:8080/"
        },
        "id": "ZATIJPELH_DP",
        "outputId": "1f7c451d-03d2-4143-a3ab-1e35c3e054cb"
      },
      "execution_count": 16,
      "outputs": [
        {
          "output_type": "stream",
          "name": "stdout",
          "text": [
            "10 20 40 "
          ]
        }
      ]
    }
  ]
}